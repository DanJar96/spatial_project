{
  "nbformat": 4,
  "nbformat_minor": 0,
  "metadata": {
    "colab": {
      "name": "xgb_prediction_intervals.ipynb",
      "provenance": [],
      "collapsed_sections": []
    },
    "kernelspec": {
      "name": "python3",
      "display_name": "Python 3"
    },
    "language_info": {
      "name": "python"
    }
  },
  "cells": [
    {
      "cell_type": "code",
      "source": [
        "import pandas as pd\n",
        "import numpy as np \n",
        "import tqdm\n",
        "import matplotlib.pyplot as plt\n",
        "import scipy\n",
        "\n",
        "from xgboost.sklearn import XGBRegressor\n",
        "from sklearn.preprocessing import StandardScaler\n",
        "from sklearn.model_selection import RandomizedSearchCV, GridSearchCV\n",
        "from sklearn.metrics import mean_squared_error, mean_absolute_error\n",
        "from functools import partial\n",
        "from sklearn.pipeline import make_pipeline\n",
        "\n",
        "import warnings\n",
        "warnings.filterwarnings('ignore')\n",
        "pd.set_option('display.max_rows', 200)"
      ],
      "metadata": {
        "id": "jEjmb9OcnRKb"
      },
      "execution_count": 69,
      "outputs": []
    },
    {
      "cell_type": "code",
      "source": [
        "from google.colab import drive\n",
        "drive.mount('/content/drive')"
      ],
      "metadata": {
        "colab": {
          "base_uri": "https://localhost:8080/"
        },
        "id": "pySnRnzOn3p7",
        "outputId": "baa2f656-b9b2-4284-e781-7a52548bdb7c"
      },
      "execution_count": 2,
      "outputs": [
        {
          "output_type": "stream",
          "name": "stdout",
          "text": [
            "Mounted at /content/drive\n"
          ]
        }
      ]
    },
    {
      "cell_type": "code",
      "execution_count": 3,
      "metadata": {
        "id": "TFd1CG1snMGt"
      },
      "outputs": [],
      "source": [
        "# Load the data\n",
        "\n",
        "# Setting output dictionary\n",
        "output_dir = '/content/drive/MyDrive/Colab Notebooks/spatial_proj/'\n",
        "\n",
        "df = pd.read_csv(output_dir + 'master_data.csv').iloc[:,0:-1]\n",
        "df.rename(columns = {'newcases_tplus1' : 'newcases_tplus2', 'newcases_tplus2' : 'newcases_tplus3', 'newcases_tplus4' : 'newcases_tplus5', 'newcases' : 'newcases_tplus1'},inplace=True)"
      ]
    },
    {
      "cell_type": "markdown",
      "source": [
        "## Utilities"
      ],
      "metadata": {
        "id": "-id-jetX1IOS"
      }
    },
    {
      "cell_type": "code",
      "source": [
        "def predict_quantiles(X_train,y_train,X_test,y_test,estimator,alpha,model_name):\n",
        "  estimator.fit(X_train,y_train)\n",
        "  y_pred = estimator.predict(X_test)\n",
        "  print( \"{model_name} alpha = {alpha:.2f},score = {score:.1f}\".format(model_name=model_name, alpha=alpha , score= XGBQuantile.quantile_score(y_test, y_pred, alpha)) )\n",
        "\n",
        "  return y_pred\n",
        "\n",
        "def choosehorizon(dataframe,pred : int,lags):\n",
        "    \"\"\"\n",
        "    This function takes in the master dataframe and spits out the lags that you want to include,\n",
        "    and then sorts the data so that it's easier to look at.\n",
        "    \"\"\"\n",
        "    if pred not in [1,2,4]:\n",
        "        print(f\"Sorry, but the only available prediction horizons are 1,2 and 4 weeks ahead!\")\n",
        "        return None\n",
        "    elif (max(lags) > 4) or (min(lags) < 1):\n",
        "        if len(lags) == 0:\n",
        "            print(\"You have specified zero lags! Nonsense!\")\n",
        "        else: print(\"Your lags are out of bounds...\")\n",
        "    \n",
        "    lagcols = [col for col in list(dataframe.columns) if 'tminus' in col]\n",
        "    \n",
        "    lagschosen = []\n",
        "    for lag in lags:\n",
        "        lagschosen += [col for col in lagcols if str(lag) in col]\n",
        "        \n",
        "    lagschosen.sort()\n",
        "    sociocols = [col for col in list(dataframe.columns) if '2019' in col]\n",
        "    indices = ['Y-W','province']\n",
        "    y = f\"newcases_tplus{pred}\"\n",
        "    \n",
        "    allcols = indices + [y] + lagschosen + sociocols\n",
        "    \n",
        "    # Given lags, take out data that contains NaNs due to data unavailability\n",
        "    # First week when we have data is 2020-10, so add up weeks according to lags..\n",
        "    max_lag = max(lags)\n",
        "    # first_week = f\"2020-{10+max_lag}\"\n",
        "    first_week = '2021-01'\n",
        "    last_week = '2021-52'\n",
        "    \n",
        "    # Given that we are predicting into the future, we need to take off as many weeks as we\n",
        "    # are predicting into the future for, because otherwise we have NaNs..\n",
        "    last_week = f\"2022-{10-pred}\"\n",
        "    \n",
        "    # We also need to take care of the fact that we only have Google Mobility data up to 2021-52\n",
        "    last_week_google = f\"2021-52\"\n",
        "    \n",
        "    last_effective_week = [last_week,last_week_google]\n",
        "    last_effective_week.sort()\n",
        "    dataframe = dataframe[(dataframe['Y-W'] >= first_week) & (dataframe['Y-W'] <= last_effective_week[0])]\n",
        "    dataframe.reset_index(drop=True,inplace=True)\n",
        "    return dataframe[allcols],y"
      ],
      "metadata": {
        "id": "H0TGHLtCoM1y"
      },
      "execution_count": 111,
      "outputs": []
    },
    {
      "cell_type": "markdown",
      "source": [
        "## XGBQuantile class"
      ],
      "metadata": {
        "id": "PASczVAc1MIJ"
      }
    },
    {
      "cell_type": "code",
      "source": [
        "class XGBQuantile(XGBRegressor):\n",
        "  def __init__(self,quant_alpha=0.95,quant_delta = 1.0,quant_thres=1.0,quant_var =1.0,base_score=0.5, booster='gbtree', colsample_bylevel=1,\n",
        "                colsample_bytree=1, gamma=0, learning_rate=0.1, max_delta_step=0,max_depth=3, min_child_weight=1, missing=None, n_estimators=100,\n",
        "                n_jobs=1, nthread=None, objective='reg:linear', random_state=0,reg_alpha=0, reg_lambda=1, scale_pos_weight=1, seed=None,silent=True, subsample=1):\n",
        "    self.quant_alpha = quant_alpha\n",
        "    self.quant_delta = quant_delta\n",
        "    self.quant_thres = quant_thres\n",
        "    self.quant_var = quant_var\n",
        "    \n",
        "    super().__init__(base_score=base_score, booster=booster, colsample_bylevel=colsample_bylevel,\n",
        "       colsample_bytree=colsample_bytree, gamma=gamma, learning_rate=learning_rate, max_delta_step=max_delta_step,\n",
        "       max_depth=max_depth, min_child_weight=min_child_weight, missing=missing, n_estimators=n_estimators,\n",
        "       n_jobs= n_jobs, nthread=nthread, objective=objective, random_state=random_state,\n",
        "       reg_alpha=reg_alpha, reg_lambda=reg_lambda, scale_pos_weight=scale_pos_weight, seed=seed,\n",
        "       silent=silent, subsample=subsample)\n",
        "    \n",
        "    self.test = None\n",
        "  \n",
        "  def fit(self, X, y):\n",
        "    super().set_params(objective=partial(XGBQuantile.quantile_loss,alpha = self.quant_alpha,delta = self.quant_delta,threshold = self.quant_thres,var = self.quant_var) )\n",
        "    super().fit(X,y)\n",
        "    return self\n",
        "  \n",
        "  def predict(self,X):\n",
        "    return super().predict(X)\n",
        "  \n",
        "  def score(self, X, y):\n",
        "    y_pred = super().predict(X)\n",
        "    score = XGBQuantile.quantile_score(y, y_pred, self.quant_alpha)\n",
        "    score = 1./score\n",
        "    return score\n",
        "      \n",
        "  @staticmethod\n",
        "  def quantile_loss(y_true,y_pred,alpha,delta,threshold,var):\n",
        "    x = y_true - y_pred\n",
        "    grad = (x<(alpha-1.0)*delta)*(1.0-alpha)-  ((x>=(alpha-1.0)*delta)& (x<alpha*delta) )*x/delta-alpha*(x>alpha*delta)\n",
        "    hess = ((x>=(alpha-1.0)*delta)& (x<alpha*delta) )/delta \n",
        " \n",
        "    grad = (np.abs(x)<threshold )*grad - (np.abs(x)>=threshold )*(2*np.random.randint(2, size=len(y_true)) -1.0)*var\n",
        "    hess = (np.abs(x)<threshold )*hess + (np.abs(x)>=threshold )\n",
        "    return grad, hess\n",
        "  \n",
        "  @staticmethod\n",
        "  def original_quantile_loss(y_true,y_pred,alpha,delta):\n",
        "    x = y_true - y_pred\n",
        "    grad = (x<(alpha-1.0)*delta)*(1.0-alpha)-((x>=(alpha-1.0)*delta)& (x<alpha*delta) )*x/delta-alpha*(x>alpha*delta)\n",
        "    hess = ((x>=(alpha-1.0)*delta)& (x<alpha*delta) )/delta \n",
        "    return grad,hess\n",
        "\n",
        "  \n",
        "  @staticmethod\n",
        "  def quantile_score(y_true, y_pred, alpha):\n",
        "    score = XGBQuantile.quantile_cost(x=y_true-y_pred,alpha=alpha)\n",
        "    score = np.sum(score)\n",
        "    return score\n",
        "  \n",
        "  @staticmethod\n",
        "  def quantile_cost(x, alpha):\n",
        "    return (alpha-1.0)*x*(x<0)+alpha*x*(x>=0)\n",
        "  \n",
        "  @staticmethod\n",
        "  def get_split_gain(gradient,hessian,l=1):\n",
        "    split_gain = list()\n",
        "    for i in range(gradient.shape[0]):\n",
        "      split_gain.append(np.sum(gradient[:i])**2/(np.sum(hessian[:i])+l)+np.sum(gradient[i:])**2/(np.sum(hessian[i:])+l)-np.sum(gradient)**2/(np.sum(hessian)+l) )\n",
        "    \n",
        "    return np.array(split_gain)"
      ],
      "metadata": {
        "id": "tmcw1VL0t1nw"
      },
      "execution_count": 13,
      "outputs": []
    },
    {
      "cell_type": "code",
      "source": [
        "data, depvarname = choosehorizon(df,1,[1])\n",
        "\n",
        "plt.matshow(np.abs(data.corr()))\n",
        "cb = plt.colorbar()\n",
        "cb.ax.tick_params(labelsize=14)\n",
        "plt.title('Correlation Matrix', fontsize=16);"
      ],
      "metadata": {
        "colab": {
          "base_uri": "https://localhost:8080/",
          "height": 260
        },
        "id": "OPWgBJoNoiJF",
        "outputId": "7e248072-de5f-4146-eece-b2ed95463c78"
      },
      "execution_count": 239,
      "outputs": [
        {
          "output_type": "display_data",
          "data": {
            "text/plain": [
              "<Figure size 288x288 with 2 Axes>"
            ],
            "image/png": "[encoded data removed]"
          },
          "metadata": {
            "needs_background": "light"
          }
        }
      ]
    },
    {
      "cell_type": "markdown",
      "source": [
        "## Train/test, step parameters"
      ],
      "metadata": {
        "id": "Lnz7EiYJ1TbP"
      }
    },
    {
      "cell_type": "code",
      "source": [
        "training_size = 30 # week\n",
        "testing_size = 1 # week\n",
        "num_counties = len(data.province.value_counts().index)\n",
        "time_steps = 22"
      ],
      "metadata": {
        "id": "1acoLfu2pJF0"
      },
      "execution_count": 15,
      "outputs": []
    },
    {
      "cell_type": "markdown",
      "source": [
        "## Prediction Intervals\n",
        "\n",
        "The following function `get_bound_cv` allows to compute a quantile regression with use of tweaked XGBoost algorithm."
      ],
      "metadata": {
        "id": "N9rt4BVJhGIj"
      }
    },
    {
      "cell_type": "code",
      "source": [
        "def get_bound_cv(data: pd.DataFrame, depvarname: str, alpha: float, \n",
        "                 param_distributions: dict, training_size: int, \n",
        "                 testing_size: int, num_counties: int, time_steps: int, \n",
        "                 n_iter: int):\n",
        "    '''\n",
        "    Compute Pridiction Intervals with using XGBoost with tweaked gradient and\n",
        "    Hessian.\n",
        "    \n",
        "    Parameters:\n",
        "        data:                 Data Frame\n",
        "        depvarname:           Name of the dependent variable\n",
        "        alpha:                Quantile to obtain.\n",
        "        param_distributions:  Defines parameter distributions used by Random\n",
        "                              Search routine.\n",
        "        training_size:        Initial window size for the Exanding Window CV.\n",
        "        testing_size:         For prediction intervals, we consider only one \n",
        "                              week ahead prediction problem. So the testing \n",
        "                              size is 1.\n",
        "        num_counties:         Total number of counties in the country, in our\n",
        "                              case is 18.\n",
        "        time_steps:           Number of weeks that we make predictions for,\n",
        "                              in our case is 22.\n",
        "        n_iter:               Number of iterations for Randomized Search algorithm.\n",
        "\n",
        "    '''\n",
        "    # We pick the whole dataset to perform Randomized CV search for parameters to \n",
        "    # build Prediction Intervals. The parameters go into XGBoost-Quantile algorithm.\n",
        "\n",
        "    X = data.iloc[:, 3:]\n",
        "    X = np.matrix(X)\n",
        "    y = data.loc[:, depvarname]\n",
        "\n",
        "    percentile_model = XGBQuantile(seed=42, quant_alpha = alpha)\n",
        "\n",
        "    # Since we have temporal structure as well, cross-validation should be done in\n",
        "    # specific way. In this case we pick \n",
        "\n",
        "    cv = [(slice(0, \n",
        "                 (training_size + i)*num_counties), \n",
        "           slice((training_size + i)*num_counties, \n",
        "                 (training_size + i + testing_size) * num_counties)) \n",
        "          for i in range(time_steps)]\n",
        "\n",
        "    # The pipeline combines Standard Scaler for X and the XGBQuantile model.\n",
        "    pipeline = make_pipeline(StandardScaler(), percentile_model)\n",
        "\n",
        "    # Specify the Randomized Search (Cross-Validation) routine to get parameters. \n",
        "    rs_cv  = RandomizedSearchCV(pipeline, \n",
        "                                param_distributions=param_distributions,\n",
        "                                n_iter=200, cv=cv, verbose = 1)\n",
        "    rs_cv.fit(X,y)\n",
        "    # Get the best estimator, according to cross-validated mse.\n",
        "    percentile_estimator = rs_cv.best_estimator_\n",
        "    y_bound = []\n",
        "\n",
        "    for train_idxs, test_idxs in cv:\n",
        "        X_train = np.matrix(data.iloc[train_idxs, 3:])\n",
        "        X_test = np.matrix(data.iloc[test_idxs, 3:])\n",
        "        y_train = np.array(data.iloc[train_idxs, data.columns == depvarname])\n",
        "        y_test = np.array(data.iloc[test_idxs, data.columns == depvarname])\n",
        "        y_week_bound = predict_quantiles(X_train,y_train,X_test,y_test,\n",
        "                                         estimator=percentile_estimator,\n",
        "                                         alpha=alpha,model_name=\"Quantile XGB\")\n",
        "        y_bound += [np.exp(y_week_bound) - 1]\n",
        "\n",
        "    y_bound = np.array(y_bound).sum(axis = 1)\n",
        "    return(y_bound)"
      ],
      "metadata": {
        "id": "zJHqxiHShcWy"
      },
      "execution_count": 177,
      "outputs": []
    },
    {
      "cell_type": "code",
      "source": [
        "y = data.loc[:, depvarname]"
      ],
      "metadata": {
        "id": "fx8UBOHcDf-U"
      },
      "execution_count": null,
      "outputs": []
    },
    {
      "cell_type": "code",
      "source": [
        "param_distributions = {'xgbquantile__quant_delta':scipy.stats.uniform(0.01,10.0),\n",
        "                       'xgbquantile__quant_var':scipy.stats.uniform(1.0,10.0),\n",
        "                       'xgbquantile__quant_thres':scipy.stats.uniform(0.01,10.0)}"
      ],
      "metadata": {
        "id": "sYu2HcwdqrNd"
      },
      "execution_count": 167,
      "outputs": []
    },
    {
      "cell_type": "code",
      "source": [
        "y_lower = get_bound_cv(data=data, depvarname=depvarname, alpha=0.05,\n",
        "                       param_distributions=param_distributions,\n",
        "                       training_size=training_size, testing_size=testing_size,\n",
        "                       num_counties=num_counties, time_steps=time_steps,\n",
        "                       n_iter=200)\n",
        "y_upper = get_bound_cv(data=data, depvarname=depvarname, alpha=0.95,\n",
        "                       param_distributions=param_distributions,\n",
        "                       training_size=training_size, testing_size=testing_size,\n",
        "                       num_counties=num_counties, time_steps=time_steps,\n",
        "                       n_iter=200)\n",
        "real_cases = (np.exp(np.array(y).reshape(52, 18)[30:,]) - 1).sum(axis=1)"
      ],
      "metadata": {
        "id": "HTlgF32Xbj3D"
      },
      "execution_count": null,
      "outputs": []
    },
    {
      "cell_type": "code",
      "source": [
        "# Retrieve predictions from the pre-computed table\n",
        "\n",
        "predictions = pd.read_csv(output_dir + 'onelag_predict_cases.csv').iloc[:, 2:]\n",
        "columns_prediction = [colname for colname in predictions.columns \n",
        "                      if '_predicted' in colname]\n",
        "predicted_cases = np.array(predictions[columns_prediction].sum(axis=0))"
      ],
      "metadata": {
        "id": "-b95eqaP4CYW"
      },
      "execution_count": 203,
      "outputs": []
    },
    {
      "cell_type": "markdown",
      "source": [
        "### Plot Intervals\n",
        "\n",
        "The next routine provides a plot with the computed prediction intervals."
      ],
      "metadata": {
        "id": "FrwV9CdjCp0L"
      }
    },
    {
      "cell_type": "code",
      "source": [
        "def plot_intervals(x_range, real_cases,predicted_cases,y_upper,y_lower):\n",
        "  x_axis = x_range\n",
        "\n",
        "  fig, ax = plt.subplots()\n",
        "\n",
        "  ax.plot(x_axis, real_cases, color= 'red', label='Real Cases')\n",
        "  ax.plot(x_axis, predicted_cases, color= 'green', label='Predicted Cases')\n",
        "  ax.plot(x_axis, y_upper, 'k-')\n",
        "  ax.plot(x_axis, y_lower, 'k-')\n",
        "  ax.fill_between(x_axis,y_lower, y_upper, alpha=.5, fc='b', ec='None', \n",
        "                  label='90% prediction interval')\n",
        "  ax.legend(loc = 'upper left')\n",
        "\n",
        "  plt.xlabel(\"Week\")\n",
        "  plt.ylabel(\"Number of Cases\")\n",
        "  plt.title(\"Predicted and Real Cases over all of Finland (1 week ahead)\")\n",
        "  plt.show()"
      ],
      "metadata": {
        "id": "QSSnpwIqeSf8"
      },
      "execution_count": 235,
      "outputs": []
    },
    {
      "cell_type": "code",
      "source": [
        "x_range = np.arange(31, 53, 1)\n",
        "plot_intervals(x_range, real_cases, predicted_cases, y_upper, y_lower)"
      ],
      "metadata": {
        "colab": {
          "base_uri": "https://localhost:8080/",
          "height": 295
        },
        "id": "9HzhST7GSycX",
        "outputId": "4211d912-a0d0-4526-d42a-8dba8d35431d"
      },
      "execution_count": 238,
      "outputs": [
        {
          "output_type": "display_data",
          "data": {
            "text/plain": [
              "<Figure size 432x288 with 1 Axes>"
            ],
            "image/png": "[encoded data removed]"
          },
          "metadata": {
            "needs_background": "light"
          }
        }
      ]
    }
  ]
}